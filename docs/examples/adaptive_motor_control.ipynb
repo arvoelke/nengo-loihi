{
 "cells": [
  {
   "cell_type": "markdown",
   "metadata": {},
   "source": [
    "# Nonlinear adaptive control\n",
    "\n",
    "In this example, we will use the PES learning rule\n",
    "to learn the effects of gravity, applied to a 2-joint arm.\n",
    "\n",
    "This example requires the ABR_Control library, available here: https://github.com/abr/abr_control"
   ]
  },
  {
   "cell_type": "code",
   "execution_count": 1,
   "metadata": {},
   "outputs": [],
   "source": [
    "import numpy as np\n",
    "import matplotlib.pyplot as plt\n",
    "%matplotlib inline\n",
    "\n",
    "import nengo\n",
    "from nengo.processes import WhiteSignal\n",
    "import nengo_loihi\n",
    "nengo_loihi.set_defaults()"
   ]
  },
  {
   "cell_type": "markdown",
   "metadata": {},
   "source": [
    "### Creating the arm simulation and reaching framework\n",
    "\n",
    "The first thing to do is create the arm simulation to simulate the dynamics of a two link arm, and an operational space controller to calculate what torques to apply to the joints to move the hand in a straight line to the targets."
   ]
  },
  {
   "cell_type": "code",
   "execution_count": 2,
   "metadata": {},
   "outputs": [],
   "source": [
    "from abr_control.arms import twolink as arm\n",
    "from abr_control.controllers import OSC\n",
    "\n",
    "# set the initial position of the arm\n",
    "robot_config = arm.Config(use_cython=True)\n",
    "arm_sim = arm.ArmSim(robot_config=robot_config, dt=1e-3, q_init=[.95, 2.0])\n",
    "\n",
    "# create an operational space controller\n",
    "ctrlr = OSC(robot_config, kp=10, kv=7, vmax=10)"
   ]
  },
  {
   "cell_type": "markdown",
   "metadata": {},
   "source": [
    "Next we create a set of targets for the arm to reach to. In this task the hand will start at a center location, then reach out and back to 4 targets around a circle."
   ]
  },
  {
   "cell_type": "code",
   "execution_count": 3,
   "metadata": {},
   "outputs": [
    {
     "data": {
      "text/plain": [
       "<matplotlib.legend.Legend at 0x7f47be0a8828>"
      ]
     },
     "execution_count": 3,
     "metadata": {},
     "output_type": "execute_result"
    },
    {
     "data": {
      "image/png": "[encoded data removed]",
      "text/plain": [
       "<Figure size 432x288 with 1 Axes>"
      ]
     },
     "metadata": {
      "needs_background": "light"
     },
     "output_type": "display_data"
    }
   ],
   "source": [
    "# create a set of targets to reach to\n",
    "n_reaches = 4\n",
    "distance = .75\n",
    "center = [0, 2.0]\n",
    "end_points = [[distance * np.cos(theta) + center[0],\n",
    "               distance * np.sin(theta) + center[1]]\n",
    "              for theta in np.linspace(0, 2*np.pi, n_reaches+1)][:-1]\n",
    "targets = np.vstack([[center, ep] for ep in end_points])\n",
    "\n",
    "plt.plot(targets[:, 0], targets[:,1], 'rx', mew=5, label='Target')\n",
    "plt.plot(center[0], center[1], 'bx', mew=5, label='Start')\n",
    "plt.xlim([-2, 2])\n",
    "plt.ylim([0, 4])\n",
    "plt.gca().set_aspect('equal')\n",
    "plt.legend()"
   ]
  },
  {
   "cell_type": "code",
   "execution_count": 4,
   "metadata": {},
   "outputs": [
    {
     "name": "stdout",
     "output_type": "stream",
     "text": [
      "Loading cython function from joint0[0,0,0]_Tx ...\n",
      "Loading cython function from joint1[0,0,0]_Tx ...\n",
      "Loading cython function from EE[0,0,0]_Tx ...\n"
     ]
    }
   ],
   "source": [
    "def build_baseline_model():\n",
    "    with nengo.Network(label=\"Nonlinear adaptive control\") as model:\n",
    "    \n",
    "        # Create node that specifies target\n",
    "        def gen_target(t):\n",
    "            # Advance to the next target in the list every 2 seconds\n",
    "            return targets[int(t / 2) % len(targets)]\n",
    "        target_node = nengo.Node(output=gen_target, size_out=2)\n",
    "\n",
    "        # Create node that calculates the OSC signal\n",
    "        model.osc_node = nengo.Node(\n",
    "            output=lambda t,x: ctrlr.generate(\n",
    "                q=x[:2], dq=x[2:4],target_pos=np.hstack([x[4:6], 0])),\n",
    "            size_in=6, size_out=2)\n",
    "\n",
    "        # Create node that runs the arm simulation and gets feedback\n",
    "        def arm_func(t, x):\n",
    "            u = x[:2]  # the OSC signal\n",
    "            u += x[2:4] * 10  # add in the adaptive control signal\n",
    "            arm_sim.send_forces(u)  # step the arm simulation forward\n",
    "            # return arm joint angles, joint velocities, and hand (x,y)\n",
    "            return np.hstack([arm_sim.q, arm_sim.dq, arm_sim.x]) \n",
    "        model.arm_node = nengo.Node(output=arm_func, size_in=4)\n",
    "\n",
    "        # hook up the OSC controller and arm simulation\n",
    "        nengo.Connection(model.osc_node, model.arm_node[:2])\n",
    "        nengo.Connection(model.arm_node[:4], model.osc_node[:4])\n",
    "        # send in current target to the controller\n",
    "        nengo.Connection(target_node, model.osc_node[4:6])\n",
    "    \n",
    "        model.probe_target = nengo.Probe(target_node)  # track targets\n",
    "        model.probe_hand = nengo.Probe(model.arm_node[4:6])  # track hand (x,y)\n",
    "        \n",
    "    return model\n",
    "baseline_model = build_baseline_model()"
   ]
  },
  {
   "cell_type": "markdown",
   "metadata": {},
   "source": [
    "## Running the network in Nengo\n",
    "\n",
    "We can now run the basic framework, where the operational space controller will drive the hand to the 4 targets around the circle."
   ]
  },
  {
   "cell_type": "code",
   "execution_count": 5,
   "metadata": {},
   "outputs": [
    {
     "data": {
      "text/html": [
       "\n",
       "                <div id=\"33ebc4e4-2b5f-4ed6-a648-a97163e62353\" style=\"\n",
       "                    width: 100%;\n",
       "                    border: 1px solid #cfcfcf;\n",
       "                    border-radius: 4px;\n",
       "                    text-align: center;\n",
       "                    position: relative;\">\n",
       "                  <div class=\"pb-text\" style=\"\n",
       "                      position: absolute;\n",
       "                      width: 100%;\">\n",
       "                    0%\n",
       "                  </div>\n",
       "                  <div class=\"pb-fill\" style=\"\n",
       "                      background-color: #bdd2e6;\n",
       "                      width: 0%;\">\n",
       "                    <style type=\"text/css\" scoped=\"scoped\">\n",
       "                        @keyframes pb-fill-anim {\n",
       "                            0% { background-position: 0 0; }\n",
       "                            100% { background-position: 100px 0; }\n",
       "                        }\n",
       "                    </style>\n",
       "                    &nbsp;\n",
       "                  </div>\n",
       "                </div>"
      ],
      "text/plain": [
       "HtmlProgressBar cannot be displayed. Please use the TerminalProgressBar. It can be enabled with `nengo.rc.set('progress', 'progress_bar', 'nengo.utils.progress.TerminalProgressBar')`."
      ]
     },
     "metadata": {},
     "output_type": "display_data"
    },
    {
     "data": {
      "application/javascript": [
       "\n",
       "              (function () {\n",
       "                  var root = document.getElementById('33ebc4e4-2b5f-4ed6-a648-a97163e62353');\n",
       "                  var text = root.getElementsByClassName('pb-text')[0];\n",
       "                  var fill = root.getElementsByClassName('pb-fill')[0];\n",
       "\n",
       "                  text.innerHTML = 'Build finished in 0:00:01.';\n",
       "                  \n",
       "            fill.style.width = '100%';\n",
       "            fill.style.animation = 'pb-fill-anim 2s linear infinite';\n",
       "            fill.style.backgroundSize = '100px 100%';\n",
       "            fill.style.backgroundImage = 'repeating-linear-gradient(' +\n",
       "                '90deg, #bdd2e6, #edf2f8 40%, #bdd2e6 80%, #bdd2e6)';\n",
       "        \n",
       "                  \n",
       "                fill.style.animation = 'none';\n",
       "                fill.style.backgroundImage = 'none';\n",
       "            \n",
       "              })();\n",
       "        "
      ],
      "text/plain": [
       "<IPython.core.display.Javascript object>"
      ]
     },
     "metadata": {},
     "output_type": "display_data"
    },
    {
     "name": "stdout",
     "output_type": "stream",
     "text": [
      "Loading cython function from EE[0,0,0]_J ...\n",
      "Loading cython function from M ...\n",
      "Loading cython function from g ...\n"
     ]
    },
    {
     "data": {
      "text/html": [
       "\n",
       "                <div id=\"c9b86d0e-eadc-46e3-8f71-b2e120474841\" style=\"\n",
       "                    width: 100%;\n",
       "                    border: 1px solid #cfcfcf;\n",
       "                    border-radius: 4px;\n",
       "                    text-align: center;\n",
       "                    position: relative;\">\n",
       "                  <div class=\"pb-text\" style=\"\n",
       "                      position: absolute;\n",
       "                      width: 100%;\">\n",
       "                    0%\n",
       "                  </div>\n",
       "                  <div class=\"pb-fill\" style=\"\n",
       "                      background-color: #bdd2e6;\n",
       "                      width: 0%;\">\n",
       "                    <style type=\"text/css\" scoped=\"scoped\">\n",
       "                        @keyframes pb-fill-anim {\n",
       "                            0% { background-position: 0 0; }\n",
       "                            100% { background-position: 100px 0; }\n",
       "                        }\n",
       "                    </style>\n",
       "                    &nbsp;\n",
       "                  </div>\n",
       "                </div>"
      ],
      "text/plain": [
       "HtmlProgressBar cannot be displayed. Please use the TerminalProgressBar. It can be enabled with `nengo.rc.set('progress', 'progress_bar', 'nengo.utils.progress.TerminalProgressBar')`."
      ]
     },
     "metadata": {},
     "output_type": "display_data"
    },
    {
     "data": {
      "application/javascript": [
       "\n",
       "              (function () {\n",
       "                  var root = document.getElementById('c9b86d0e-eadc-46e3-8f71-b2e120474841');\n",
       "                  var text = root.getElementsByClassName('pb-text')[0];\n",
       "                  var fill = root.getElementsByClassName('pb-fill')[0];\n",
       "\n",
       "                  text.innerHTML = 'Simulation finished in 0:00:03.';\n",
       "                  \n",
       "            if (100.0 > 0.) {\n",
       "                fill.style.transition = 'width 0.1s linear';\n",
       "            } else {\n",
       "                fill.style.transition = 'none';\n",
       "            }\n",
       "\n",
       "            fill.style.width = '100.0%';\n",
       "            fill.style.animation = 'none';\n",
       "            fill.style.backgroundImage = 'none'\n",
       "        \n",
       "                  \n",
       "                fill.style.animation = 'none';\n",
       "                fill.style.backgroundImage = 'none';\n",
       "            \n",
       "              })();\n",
       "        "
      ],
      "text/plain": [
       "<IPython.core.display.Javascript object>"
      ]
     },
     "metadata": {},
     "output_type": "display_data"
    }
   ],
   "source": [
    "# each reach is 2 seconds out + 2 seconds back in\n",
    "runtime = n_reaches #* 2 * 2 + 2\n",
    "\n",
    "arm_sim.reset()\n",
    "with nengo.Simulator(baseline_model) as sim:\n",
    "    sim.run(runtime)\n",
    "baseline_t = sim.trange()\n",
    "baseline_data = sim.data"
   ]
  },
  {
   "cell_type": "markdown",
   "metadata": {},
   "source": []
  },
  {
   "cell_type": "code",
   "execution_count": 6,
   "metadata": {},
   "outputs": [
    {
     "data": {
      "text/plain": [
       "(<matplotlib.axes._subplots.AxesSubplot at 0x7f47bd642630>,\n",
       " <matplotlib.axes._subplots.AxesSubplot at 0x7f47bd655940>)"
      ]
     },
     "execution_count": 6,
     "metadata": {},
     "output_type": "execute_result"
    },
    {
     "data": {
      "image/png": "[encoded data removed]",
      "text/plain": [
       "<Figure size 720x288 with 2 Axes>"
      ]
     },
     "metadata": {
      "needs_background": "light"
     },
     "output_type": "display_data"
    }
   ],
   "source": [
    "def calculate_error(model, data):\n",
    "    return (data[model.probe_target] - data[model.probe_hand])**2\n",
    "baseline_error = calculate_error(baseline_model, baseline_data)\n",
    "\n",
    "def plot_data(t_set, data_set, label_set):\n",
    "    plt.figure(figsize=(10, 4))\n",
    "    plt.title(\"Distance to target\")\n",
    "    \n",
    "    ax1 = plt.subplot(2, 1, 1)\n",
    "    plt.xticks([])\n",
    "    plt.ylabel('X error')\n",
    "    \n",
    "    ax2 = plt.subplot(2, 1, 2)\n",
    "    plt.xticks([])\n",
    "    plt.ylabel('Y error')\n",
    "    plt.xlabel(\"Time (s)\")\n",
    "    \n",
    "    plt.tight_layout()\n",
    "    \n",
    "    for t, data, label in zip(t_set, data_set, label_set):\n",
    "        ax1.plot(t, data[:, 0], label=label)\n",
    "        ax2.plot(t, data[:, 1], label=label)\n",
    "    \n",
    "    ax1.legend()\n",
    "    ax2.legend()\n",
    "    \n",
    "    return ax1, ax2\n",
    "\n",
    "plot_data(\n",
    "    [baseline_t],\n",
    "    [baseline_error],\n",
    "    ['Baseline'])"
   ]
  },
  {
   "cell_type": "code",
   "execution_count": 7,
   "metadata": {},
   "outputs": [],
   "source": [
    "def add_gravity(model):\n",
    "    with model:\n",
    "        # calculate and add in gravity along y axis\n",
    "        gravity = np.array([0, -9.8, 0, 0, 0, 0])\n",
    "        M0g = np.dot(robot_config._M_LINKS[0], gravity)\n",
    "        M1g = np.dot(robot_config._M_LINKS[1], gravity)\n",
    "        def gravity_func(t, q):\n",
    "            g = np.dot(robot_config.J('link1', q=q).T, M0g)\n",
    "            g += np.dot(robot_config.J('link2', q=q).T, M1g)\n",
    "            return g\n",
    "        gravity_node = nengo.Node(gravity_func, size_in=2, size_out=2)\n",
    "        # connect perturbation to arm\n",
    "        nengo.Connection(model.arm_node[:2], gravity_node)\n",
    "        nengo.Connection(gravity_node, model.arm_node[:2])\n",
    "        \n",
    "    return model\n",
    "gravity_model = add_gravity(build_baseline_model())"
   ]
  },
  {
   "cell_type": "code",
   "execution_count": 8,
   "metadata": {},
   "outputs": [
    {
     "data": {
      "text/html": [
       "\n",
       "                <div id=\"8fdc16cc-b4cd-4568-a1fb-336705944ea1\" style=\"\n",
       "                    width: 100%;\n",
       "                    border: 1px solid #cfcfcf;\n",
       "                    border-radius: 4px;\n",
       "                    text-align: center;\n",
       "                    position: relative;\">\n",
       "                  <div class=\"pb-text\" style=\"\n",
       "                      position: absolute;\n",
       "                      width: 100%;\">\n",
       "                    0%\n",
       "                  </div>\n",
       "                  <div class=\"pb-fill\" style=\"\n",
       "                      background-color: #bdd2e6;\n",
       "                      width: 0%;\">\n",
       "                    <style type=\"text/css\" scoped=\"scoped\">\n",
       "                        @keyframes pb-fill-anim {\n",
       "                            0% { background-position: 0 0; }\n",
       "                            100% { background-position: 100px 0; }\n",
       "                        }\n",
       "                    </style>\n",
       "                    &nbsp;\n",
       "                  </div>\n",
       "                </div>"
      ],
      "text/plain": [
       "HtmlProgressBar cannot be displayed. Please use the TerminalProgressBar. It can be enabled with `nengo.rc.set('progress', 'progress_bar', 'nengo.utils.progress.TerminalProgressBar')`."
      ]
     },
     "metadata": {},
     "output_type": "display_data"
    },
    {
     "data": {
      "application/javascript": [
       "\n",
       "              (function () {\n",
       "                  var root = document.getElementById('8fdc16cc-b4cd-4568-a1fb-336705944ea1');\n",
       "                  var text = root.getElementsByClassName('pb-text')[0];\n",
       "                  var fill = root.getElementsByClassName('pb-fill')[0];\n",
       "\n",
       "                  text.innerHTML = 'Build finished in 0:00:01.';\n",
       "                  \n",
       "            fill.style.width = '100%';\n",
       "            fill.style.animation = 'pb-fill-anim 2s linear infinite';\n",
       "            fill.style.backgroundSize = '100px 100%';\n",
       "            fill.style.backgroundImage = 'repeating-linear-gradient(' +\n",
       "                '90deg, #bdd2e6, #edf2f8 40%, #bdd2e6 80%, #bdd2e6)';\n",
       "        \n",
       "                  \n",
       "                fill.style.animation = 'none';\n",
       "                fill.style.backgroundImage = 'none';\n",
       "            \n",
       "              })();\n",
       "        "
      ],
      "text/plain": [
       "<IPython.core.display.Javascript object>"
      ]
     },
     "metadata": {},
     "output_type": "display_data"
    },
    {
     "name": "stdout",
     "output_type": "stream",
     "text": [
      "Loading cython function from link1[0,0,0]_J ...\n",
      "Loading cython function from link2[0,0,0]_J ...\n"
     ]
    },
    {
     "data": {
      "text/html": [
       "\n",
       "                <div id=\"5713609f-f96e-469b-a7fd-8fc451add359\" style=\"\n",
       "                    width: 100%;\n",
       "                    border: 1px solid #cfcfcf;\n",
       "                    border-radius: 4px;\n",
       "                    text-align: center;\n",
       "                    position: relative;\">\n",
       "                  <div class=\"pb-text\" style=\"\n",
       "                      position: absolute;\n",
       "                      width: 100%;\">\n",
       "                    0%\n",
       "                  </div>\n",
       "                  <div class=\"pb-fill\" style=\"\n",
       "                      background-color: #bdd2e6;\n",
       "                      width: 0%;\">\n",
       "                    <style type=\"text/css\" scoped=\"scoped\">\n",
       "                        @keyframes pb-fill-anim {\n",
       "                            0% { background-position: 0 0; }\n",
       "                            100% { background-position: 100px 0; }\n",
       "                        }\n",
       "                    </style>\n",
       "                    &nbsp;\n",
       "                  </div>\n",
       "                </div>"
      ],
      "text/plain": [
       "HtmlProgressBar cannot be displayed. Please use the TerminalProgressBar. It can be enabled with `nengo.rc.set('progress', 'progress_bar', 'nengo.utils.progress.TerminalProgressBar')`."
      ]
     },
     "metadata": {},
     "output_type": "display_data"
    },
    {
     "data": {
      "application/javascript": [
       "\n",
       "              (function () {\n",
       "                  var root = document.getElementById('5713609f-f96e-469b-a7fd-8fc451add359');\n",
       "                  var text = root.getElementsByClassName('pb-text')[0];\n",
       "                  var fill = root.getElementsByClassName('pb-fill')[0];\n",
       "\n",
       "                  text.innerHTML = 'Simulation finished in 0:00:05.';\n",
       "                  \n",
       "            if (100.0 > 0.) {\n",
       "                fill.style.transition = 'width 0.1s linear';\n",
       "            } else {\n",
       "                fill.style.transition = 'none';\n",
       "            }\n",
       "\n",
       "            fill.style.width = '100.0%';\n",
       "            fill.style.animation = 'none';\n",
       "            fill.style.backgroundImage = 'none'\n",
       "        \n",
       "                  \n",
       "                fill.style.animation = 'none';\n",
       "                fill.style.backgroundImage = 'none';\n",
       "            \n",
       "              })();\n",
       "        "
      ],
      "text/plain": [
       "<IPython.core.display.Javascript object>"
      ]
     },
     "metadata": {},
     "output_type": "display_data"
    }
   ],
   "source": [
    "arm_sim.reset()\n",
    "with nengo.Simulator(gravity_model) as sim:\n",
    "    sim.run(runtime)\n",
    "gravity_t = sim.trange()\n",
    "gravity_data = sim.data"
   ]
  },
  {
   "cell_type": "code",
   "execution_count": 9,
   "metadata": {},
   "outputs": [
    {
     "data": {
      "text/plain": [
       "(<matplotlib.axes._subplots.AxesSubplot at 0x7f47bd4f1fd0>,\n",
       " <matplotlib.axes._subplots.AxesSubplot at 0x7f47bd4f7a90>)"
      ]
     },
     "execution_count": 9,
     "metadata": {},
     "output_type": "execute_result"
    },
    {
     "data": {
      "image/png": "[encoded data removed]",
      "text/plain": [
       "<Figure size 720x288 with 2 Axes>"
      ]
     },
     "metadata": {
      "needs_background": "light"
     },
     "output_type": "display_data"
    }
   ],
   "source": [
    "gravity_error = calculate_error(gravity_model, gravity_data)\n",
    "plot_data(\n",
    "    [baseline_t, gravity_t],\n",
    "    [baseline_error, gravity_error],\n",
    "    ['Baseline', 'Gravity'])"
   ]
  },
  {
   "cell_type": "code",
   "execution_count": 10,
   "metadata": {},
   "outputs": [],
   "source": [
    "def add_adaptation(model, learning_rate=1e-6):\n",
    "    with model:\n",
    "        # create ensemble to adapt to unmodeled dynamics\n",
    "        adapt = nengo.Ensemble(n_neurons=1000, dimensions=2, radius=np.sqrt(2))\n",
    "        scale_node = nengo.Node(\n",
    "            output=lambda t, x: robot_config.scaledown('q', x), size_in=2, size_out=2)\n",
    "        nengo.Connection(model.arm_node[:2], scale_node) # to send target info to ensemble\n",
    "        nengo.Connection(scale_node, adapt)\n",
    "    \n",
    "        # connect ens to arm\n",
    "        learn_conn = nengo.Connection(adapt, model.arm_node[2:4],\n",
    "                                      function=lambda x: np.zeros(2),\n",
    "                                      learning_rule_type=nengo.PES(learning_rate),\n",
    "                                      synapse=0.05)\n",
    "        nengo.Connection(model.osc_node, learn_conn.learning_rule, transform=-1)\n",
    "    return model\n",
    "adapt_model = add_adaptation(add_gravity(build_baseline_model()))"
   ]
  },
  {
   "cell_type": "code",
   "execution_count": 12,
   "metadata": {},
   "outputs": [
    {
     "data": {
      "text/html": [
       "\n",
       "                <div id=\"4ea69db1-f238-4647-b33e-3f8a2566854f\" style=\"\n",
       "                    width: 100%;\n",
       "                    border: 1px solid #cfcfcf;\n",
       "                    border-radius: 4px;\n",
       "                    text-align: center;\n",
       "                    position: relative;\">\n",
       "                  <div class=\"pb-text\" style=\"\n",
       "                      position: absolute;\n",
       "                      width: 100%;\">\n",
       "                    0%\n",
       "                  </div>\n",
       "                  <div class=\"pb-fill\" style=\"\n",
       "                      background-color: #bdd2e6;\n",
       "                      width: 0%;\">\n",
       "                    <style type=\"text/css\" scoped=\"scoped\">\n",
       "                        @keyframes pb-fill-anim {\n",
       "                            0% { background-position: 0 0; }\n",
       "                            100% { background-position: 100px 0; }\n",
       "                        }\n",
       "                    </style>\n",
       "                    &nbsp;\n",
       "                  </div>\n",
       "                </div>"
      ],
      "text/plain": [
       "HtmlProgressBar cannot be displayed. Please use the TerminalProgressBar. It can be enabled with `nengo.rc.set('progress', 'progress_bar', 'nengo.utils.progress.TerminalProgressBar')`."
      ]
     },
     "metadata": {},
     "output_type": "display_data"
    },
    {
     "data": {
      "application/javascript": [
       "\n",
       "              (function () {\n",
       "                  var root = document.getElementById('4ea69db1-f238-4647-b33e-3f8a2566854f');\n",
       "                  var text = root.getElementsByClassName('pb-text')[0];\n",
       "                  var fill = root.getElementsByClassName('pb-fill')[0];\n",
       "\n",
       "                  text.innerHTML = 'Build finished in 0:00:01.';\n",
       "                  \n",
       "            fill.style.width = '100%';\n",
       "            fill.style.animation = 'pb-fill-anim 2s linear infinite';\n",
       "            fill.style.backgroundSize = '100px 100%';\n",
       "            fill.style.backgroundImage = 'repeating-linear-gradient(' +\n",
       "                '90deg, #bdd2e6, #edf2f8 40%, #bdd2e6 80%, #bdd2e6)';\n",
       "        \n",
       "                  \n",
       "                fill.style.animation = 'none';\n",
       "                fill.style.backgroundImage = 'none';\n",
       "            \n",
       "              })();\n",
       "        "
      ],
      "text/plain": [
       "<IPython.core.display.Javascript object>"
      ]
     },
     "metadata": {},
     "output_type": "display_data"
    },
    {
     "data": {
      "text/html": [
       "\n",
       "                <div id=\"508a3e33-d9db-4b84-9712-dfacc2a8b05f\" style=\"\n",
       "                    width: 100%;\n",
       "                    border: 1px solid #cfcfcf;\n",
       "                    border-radius: 4px;\n",
       "                    text-align: center;\n",
       "                    position: relative;\">\n",
       "                  <div class=\"pb-text\" style=\"\n",
       "                      position: absolute;\n",
       "                      width: 100%;\">\n",
       "                    0%\n",
       "                  </div>\n",
       "                  <div class=\"pb-fill\" style=\"\n",
       "                      background-color: #bdd2e6;\n",
       "                      width: 0%;\">\n",
       "                    <style type=\"text/css\" scoped=\"scoped\">\n",
       "                        @keyframes pb-fill-anim {\n",
       "                            0% { background-position: 0 0; }\n",
       "                            100% { background-position: 100px 0; }\n",
       "                        }\n",
       "                    </style>\n",
       "                    &nbsp;\n",
       "                  </div>\n",
       "                </div>"
      ],
      "text/plain": [
       "HtmlProgressBar cannot be displayed. Please use the TerminalProgressBar. It can be enabled with `nengo.rc.set('progress', 'progress_bar', 'nengo.utils.progress.TerminalProgressBar')`."
      ]
     },
     "metadata": {},
     "output_type": "display_data"
    },
    {
     "data": {
      "application/javascript": [
       "\n",
       "              (function () {\n",
       "                  var root = document.getElementById('508a3e33-d9db-4b84-9712-dfacc2a8b05f');\n",
       "                  var text = root.getElementsByClassName('pb-text')[0];\n",
       "                  var fill = root.getElementsByClassName('pb-fill')[0];\n",
       "\n",
       "                  text.innerHTML = 'Simulation finished in 0:00:06.';\n",
       "                  \n",
       "            if (100.0 > 0.) {\n",
       "                fill.style.transition = 'width 0.1s linear';\n",
       "            } else {\n",
       "                fill.style.transition = 'none';\n",
       "            }\n",
       "\n",
       "            fill.style.width = '100.0%';\n",
       "            fill.style.animation = 'none';\n",
       "            fill.style.backgroundImage = 'none'\n",
       "        \n",
       "                  \n",
       "                fill.style.animation = 'none';\n",
       "                fill.style.backgroundImage = 'none';\n",
       "            \n",
       "              })();\n",
       "        "
      ],
      "text/plain": [
       "<IPython.core.display.Javascript object>"
      ]
     },
     "metadata": {},
     "output_type": "display_data"
    }
   ],
   "source": [
    "arm_sim.reset()\n",
    "with nengo.Simulator(adapt_model) as sim:\n",
    "    sim.run(runtime)\n",
    "adapt_t = sim.trange()\n",
    "adapt_data = sim.data"
   ]
  },
  {
   "cell_type": "code",
   "execution_count": 14,
   "metadata": {},
   "outputs": [
    {
     "data": {
      "text/plain": [
       "(<matplotlib.axes._subplots.AxesSubplot at 0x7f47bd6365c0>,\n",
       " <matplotlib.axes._subplots.AxesSubplot at 0x7f47bd4190b8>)"
      ]
     },
     "execution_count": 14,
     "metadata": {},
     "output_type": "execute_result"
    },
    {
     "data": {
      "image/png": "[encoded data removed]",
      "text/plain": [
       "<Figure size 720x288 with 2 Axes>"
      ]
     },
     "metadata": {
      "needs_background": "light"
     },
     "output_type": "display_data"
    }
   ],
   "source": [
    "adapt_error = calculate_error(adapt_model, adapt_data)\n",
    "plot_data(\n",
    "    [baseline_t, gravity_t, adapt_t],\n",
    "    [baseline_error, gravity_error, adapt_error],\n",
    "    ['Baseline', 'Gravity', 'Gravity + Adapt'])"
   ]
  },
  {
   "cell_type": "markdown",
   "metadata": {},
   "source": [
    "## Running the network with Nengo Loihi\n",
    "\n",
    "Note that learning is not implemented correctly\n",
    "on the simulator yet; please see the attached\n",
    "`.pdf` plots generated on Loihi hardware instead."
   ]
  },
  {
   "cell_type": "code",
   "execution_count": 16,
   "metadata": {},
   "outputs": [
    {
     "name": "stderr",
     "output_type": "stream",
     "text": [
      "/home/tdewolf/Dropbox/code/nengo-loihi/nengo_loihi/loihi_api.py:450: UserWarning: Lost 5 extra bits in weight rounding\n",
      "  warnings.warn(\"Lost %d extra bits in weight rounding\" % (-s2,))\n"
     ]
    }
   ],
   "source": [
    "adapt_loihi_model = add_adaptation(add_gravity(build_baseline_model()), learning_rate=1e-7)\n",
    "arm_sim.reset()\n",
    "with nengo_loihi.Simulator(adapt_loihi_model) as sim:\n",
    "    sim.run(runtime)\n",
    "adapt_loihi_t = sim.trange()\n",
    "adapt_loihi_data = sim.data"
   ]
  },
  {
   "cell_type": "code",
   "execution_count": 18,
   "metadata": {},
   "outputs": [
    {
     "data": {
      "text/plain": [
       "(<matplotlib.axes._subplots.AxesSubplot at 0x7f47bd1f8c18>,\n",
       " <matplotlib.axes._subplots.AxesSubplot at 0x7f47bd21d320>)"
      ]
     },
     "execution_count": 18,
     "metadata": {},
     "output_type": "execute_result"
    },
    {
     "data": {
      "image/png": "[encoded data removed]",
      "text/plain": [
       "<Figure size 720x288 with 2 Axes>"
      ]
     },
     "metadata": {
      "needs_background": "light"
     },
     "output_type": "display_data"
    }
   ],
   "source": [
    "adapt_loihi_error = calculate_error(adapt_loihi_model, adapt_loihi_data)\n",
    "plot_data(\n",
    "    [baseline_t, gravity_t, adapt_t, adapt_loihi_t],\n",
    "    [baseline_error, gravity_error, adapt_error, adapt_loihi_error],\n",
    "    ['Baseline', 'Gravity', 'Gravity + Adapt', 'Gravity + Adapt Loihi'])"
   ]
  },
  {
   "cell_type": "code",
   "execution_count": null,
   "metadata": {},
   "outputs": [],
   "source": []
  }
 ],
 "metadata": {
  "kernelspec": {
   "display_name": "Python 3",
   "language": "python",
   "name": "python3"
  },
  "language_info": {
   "codemirror_mode": {
    "name": "ipython",
    "version": 3
   },
   "file_extension": ".py",
   "mimetype": "text/x-python",
   "name": "python",
   "nbconvert_exporter": "python",
   "pygments_lexer": "ipython3",
   "version": "3.5.6"
  }
 },
 "nbformat": 4,
 "nbformat_minor": 2
}
